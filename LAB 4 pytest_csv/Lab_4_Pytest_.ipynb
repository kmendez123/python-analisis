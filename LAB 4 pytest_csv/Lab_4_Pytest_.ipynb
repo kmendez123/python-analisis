{
  "nbformat": 4,
  "nbformat_minor": 0,
  "metadata": {
    "colab": {
      "provenance": []
    },
    "kernelspec": {
      "name": "python3",
      "display_name": "Python 3"
    },
    "language_info": {
      "name": "python"
    }
  },
  "cells": [
    {
      "cell_type": "markdown",
      "source": [
        "\n",
        "\n",
        "# Módulo simple con funciones y pruebas\n",
        "\n",
        "---\n",
        "\n",
        "\n",
        "\n"
      ],
      "metadata": {
        "id": "l2Q75KJdGAMQ"
      }
    },
    {
      "cell_type": "code",
      "execution_count": 3,
      "metadata": {
        "colab": {
          "base_uri": "https://localhost:8080/"
        },
        "id": "2vt1kZ7-ApBO",
        "outputId": "053ac1e2-d08b-4814-9f31-9b33f7abe1e5"
      },
      "outputs": [
        {
          "output_type": "stream",
          "name": "stdout",
          "text": [
            "Requirement already satisfied: pytest in /usr/local/lib/python3.12/dist-packages (8.4.1)\n",
            "Requirement already satisfied: iniconfig>=1 in /usr/local/lib/python3.12/dist-packages (from pytest) (2.1.0)\n",
            "Requirement already satisfied: packaging>=20 in /usr/local/lib/python3.12/dist-packages (from pytest) (25.0)\n",
            "Requirement already satisfied: pluggy<2,>=1.5 in /usr/local/lib/python3.12/dist-packages (from pytest) (1.6.0)\n",
            "Requirement already satisfied: pygments>=2.7.2 in /usr/local/lib/python3.12/dist-packages (from pytest) (2.19.2)\n",
            "Collecting pytest-runner\n",
            "  Downloading pytest_runner-6.0.1-py3-none-any.whl.metadata (7.3 kB)\n",
            "Downloading pytest_runner-6.0.1-py3-none-any.whl (7.2 kB)\n",
            "Installing collected packages: pytest-runner\n",
            "Successfully installed pytest-runner-6.0.1\n"
          ]
        }
      ],
      "source": [
        "!pip install pytest\n",
        "!pip install pytest-runner"
      ]
    },
    {
      "cell_type": "markdown",
      "source": [
        "mimodulo.py"
      ],
      "metadata": {
        "id": "B42LSbc_FkWJ"
      }
    },
    {
      "cell_type": "code",
      "source": [
        "%%writefile mimodulo.py\n",
        "def sumar(a, b):\n",
        "    \"\"\"Suma dos números.\"\"\"\n",
        "    if not (isinstance(a, (int, float)) and isinstance(b, (int, float))):\n",
        "        raise ValueError(\"Ambos deben ser números\")\n",
        "    return a + b\n",
        "\n",
        "def es_par(n):\n",
        "    \"\"\"Devuelve True si n es par, False si es impar.\"\"\"\n",
        "    if not isinstance(n, int):\n",
        "        raise ValueError(\"n debe ser un entero\")\n",
        "    return n % 2 == 0\n",
        "\n",
        "def factorial(n):\n",
        "    \"\"\"Devuelve el factorial de n (n >= 0).\"\"\"\n",
        "    if not isinstance(n, int) or n < 0:\n",
        "        raise ValueError(\"n debe ser un entero >= 0\")\n",
        "    if n == 0 or n == 1:\n",
        "        return 1\n",
        "    resultado = 1\n",
        "    for i in range(2, n + 1):\n",
        "        resultado *= i\n",
        "    return resultado\n"
      ],
      "metadata": {
        "id": "JZqpFpkeA1jM",
        "colab": {
          "base_uri": "https://localhost:8080/"
        },
        "outputId": "5b9282f6-837b-4a7d-d2b6-2356d6a2029f"
      },
      "execution_count": 4,
      "outputs": [
        {
          "output_type": "stream",
          "name": "stdout",
          "text": [
            "Writing mimodulo.py\n"
          ]
        }
      ]
    },
    {
      "cell_type": "markdown",
      "source": [
        "test_mimodulo.py"
      ],
      "metadata": {
        "id": "sHc_Qn1WFre3"
      }
    },
    {
      "cell_type": "code",
      "source": [
        "%%writefile test_mimodulo.py\n",
        "import pytest\n",
        "from mimodulo import sumar, es_par, factorial\n",
        "\n",
        "# Tests sumar\n",
        "def test_sumar_valido():\n",
        "    assert sumar(2, 3) == 5\n",
        "    assert sumar(-1, 1) == 0\n",
        "    assert sumar(2.5, 0.5) == 3.0\n",
        "\n",
        "def test_sumar_error():\n",
        "    import pytest\n",
        "    with pytest.raises(ValueError):\n",
        "        sumar(\"a\", 3)\n",
        "\n",
        "# Tests es_par\n",
        "def test_es_par():\n",
        "    assert es_par(2) is True\n",
        "    assert es_par(3) is False\n",
        "\n",
        "def test_es_par_error():\n",
        "    import pytest\n",
        "    with pytest.raises(ValueError):\n",
        "        es_par(2.5)\n",
        "\n",
        "# Tests factorial\n",
        "def test_factorial():\n",
        "    assert factorial(0) == 1\n",
        "    assert factorial(5) == 120\n",
        "\n",
        "def test_factorial_error():\n",
        "    import pytest\n",
        "    with pytest.raises(ValueError):\n",
        "        factorial(-1)\n"
      ],
      "metadata": {
        "colab": {
          "base_uri": "https://localhost:8080/"
        },
        "id": "7iTQrCqHFrGU",
        "outputId": "c06b0a29-e660-4902-ad6e-0849780d8aa2"
      },
      "execution_count": 5,
      "outputs": [
        {
          "output_type": "stream",
          "name": "stdout",
          "text": [
            "Writing test_mimodulo.py\n"
          ]
        }
      ]
    },
    {
      "cell_type": "code",
      "source": [
        "!pytest test_mimodulo.py -v"
      ],
      "metadata": {
        "colab": {
          "base_uri": "https://localhost:8080/"
        },
        "id": "qHjOi21tFzxe",
        "outputId": "e5572ca5-26fd-49a9-f000-1d960ea3bd6f"
      },
      "execution_count": 6,
      "outputs": [
        {
          "output_type": "stream",
          "name": "stdout",
          "text": [
            "\u001b[1m============================= test session starts ==============================\u001b[0m\n",
            "platform linux -- Python 3.12.11, pytest-8.4.1, pluggy-1.6.0 -- /usr/bin/python3\n",
            "cachedir: .pytest_cache\n",
            "rootdir: /content\n",
            "plugins: typeguard-4.4.4, anyio-4.10.0, langsmith-0.4.14\n",
            "\u001b[1mcollecting ... \u001b[0m\u001b[1m\rcollected 6 items                                                              \u001b[0m\n",
            "\n",
            "test_mimodulo.py::test_sumar_valido \u001b[32mPASSED\u001b[0m\u001b[32m                               [ 16%]\u001b[0m\n",
            "test_mimodulo.py::test_sumar_error \u001b[32mPASSED\u001b[0m\u001b[32m                                [ 33%]\u001b[0m\n",
            "test_mimodulo.py::test_es_par \u001b[32mPASSED\u001b[0m\u001b[32m                                     [ 50%]\u001b[0m\n",
            "test_mimodulo.py::test_es_par_error \u001b[32mPASSED\u001b[0m\u001b[32m                               [ 66%]\u001b[0m\n",
            "test_mimodulo.py::test_factorial \u001b[32mPASSED\u001b[0m\u001b[32m                                  [ 83%]\u001b[0m\n",
            "test_mimodulo.py::test_factorial_error \u001b[32mPASSED\u001b[0m\u001b[32m                            [100%]\u001b[0m\n",
            "\n",
            "\u001b[32m============================== \u001b[32m\u001b[1m6 passed\u001b[0m\u001b[32m in 0.03s\u001b[0m\u001b[32m ===============================\u001b[0m\n"
          ]
        }
      ]
    },
    {
      "cell_type": "markdown",
      "source": [
        "# Lectura y validación del CSV\n",
        "\n",
        "---\n",
        "\n"
      ],
      "metadata": {
        "id": "MF7RcOnpF7KI"
      }
    },
    {
      "cell_type": "code",
      "source": [
        "import csv\n",
        "\n",
        "ruta_csv = '20th century deaths in US - CDC.csv'\n",
        "\n",
        "# Leer y mostrar las primeras filas\n",
        "with open(ruta_csv, newline='', encoding='utf-8') as csvfile:\n",
        "    lector = csv.DictReader(csvfile)\n",
        "    filas = list(lector)\n",
        "    print(\"Columnas:\", lector.fieldnames)\n",
        "    print(\"Primeras 5 filas:\", filas[:5])\n"
      ],
      "metadata": {
        "colab": {
          "base_uri": "https://localhost:8080/"
        },
        "id": "WGbmBp0QF6Ae",
        "outputId": "f7fd7637-2ea6-4066-a9c8-940cc575ff92"
      },
      "execution_count": 8,
      "outputs": [
        {
          "output_type": "stream",
          "name": "stdout",
          "text": [
            "Columnas: ['Entity', 'Year', 'Accidents (excl. road) - Deaths', 'Accidents (total)  - Deaths', 'Arteriosclerosis  - Deaths', 'Bronchitis  - Deaths', 'Cancers  - Deaths', 'COPD  - Deaths', 'Dementia  - Deaths', 'Diabetes  - Deaths', 'Diarrheal disease  - Deaths', 'Heart disease  - Deaths', 'Homicide  - Deaths', 'Kidney infection  - Deaths', 'Liver disease  - Deaths', 'Neonatal disorders  - Deaths', 'Nephritis  - Deaths', 'Other causes  - Deaths', 'Pneumonia and influenza  - Deaths', 'Respiratory disease  - Deaths', 'Road accidents  - Deaths', 'Septicemia  - Deaths', 'Stroke  - Deaths', 'Suicide  - Deaths', 'Syphilis  - Deaths', 'Total deaths  - Deaths', 'Tuberculosis  - Deaths', 'Non-communicable diseases (NCDs)  - Deaths', 'Communicable, infectious, neonatal and other deaths  - Deaths', 'Accidents (excl. road) - Death Rates', 'Accidents (total) - Death Rates', 'Arteriosclerosis - Death Rates', 'Bronchitis - Death Rates', 'Cancers - Death Rates', 'COPD - Death Rates', 'Dementia - Death Rates', 'Diabetes - Death Rates', 'Diarrheal disease - Death Rates', 'Heart disease - Death Rates', 'Homicide - Death Rates', 'Kidney infection - Death Rates', 'Liver disease - Death Rates', 'Neonatal disorders - Death Rates', 'Nephritis - Death Rates', 'Other causes - Death Rates', 'Pneumonia and influenza - Death Rates', 'Respiratory disease - Death Rates', 'Road accidents - Death Rates', 'Septicemia - Death Rates', 'Stroke - Death Rates', 'Suicide - Death Rates', 'Syphilis - Death Rates', 'Total deaths - Death Rates', 'Tuberculosis - Death Rates', 'Non-communicable diseases (NCDs) - Death Rates', 'Communicable, infectious, neonatal and other deaths - Death Rates', 'Accidents (excl. road) - % of Deaths', 'Accidents (total) - % of Deaths', 'Arteriosclerosis - % of Deaths', 'Bronchitis - % of Deaths', 'Cancers - % of Deaths', 'COPD - % of Deaths', 'Dementia - % of Deaths', 'Diabetes - % of Deaths', 'Diarrheal disease - % of Deaths', 'Heart disease - % of Deaths', 'Homicide - % of Deaths', 'Kidney infection - % of Deaths', 'Liver disease - % of Deaths', 'Neonatal disorders - % of Deaths', 'Nephritis - % of Deaths', 'Other bronchopulmonic diseases - % of Deaths', 'Other causes - % of Deaths', 'Pneumonia and influenza - % of Deaths', 'Respiratory disease - % of Deaths', 'Road accidents - % of Deaths', 'Septicemia - % of Deaths', 'Stroke - % of Deaths', 'Suicide - % of Deaths', 'Syphilis - % of Deaths', 'Total deaths - % of Deaths', 'Tuberculosis - % of Deaths', 'Non-communicable diseases (NCDs) - % of Deaths', 'Communicable, infectious, neonatal and other deaths - % of Deaths']\n",
            "Primeras 5 filas: [{'Entity': 'United States', 'Year': '1900', 'Accidents (excl. road) - Deaths': '14429', 'Accidents (total)  - Deaths': '14429', 'Arteriosclerosis  - Deaths': '', 'Bronchitis  - Deaths': '', 'Cancers  - Deaths': '12769', 'COPD  - Deaths': '', 'Dementia  - Deaths': '10015', 'Diabetes  - Deaths': '', 'Diarrheal disease  - Deaths': '28491', 'Heart disease  - Deaths': '27427', 'Homicide  - Deaths': '', 'Kidney infection  - Deaths': '', 'Liver disease  - Deaths': '', 'Neonatal disorders  - Deaths': '', 'Nephritis  - Deaths': '17699', 'Other causes  - Deaths': '', 'Pneumonia and influenza  - Deaths': '40362', 'Respiratory disease  - Deaths': '', 'Road accidents  - Deaths': '', 'Septicemia  - Deaths': '', 'Stroke  - Deaths': '21353', 'Suicide  - Deaths': '', 'Syphilis  - Deaths': '', 'Total deaths  - Deaths': '343217', 'Tuberculosis  - Deaths': '38820', 'Non-communicable diseases (NCDs)  - Deaths': '61549', 'Communicable, infectious, neonatal and other deaths  - Deaths': '267239', 'Accidents (excl. road) - Death Rates': '72.3', 'Accidents (total) - Death Rates': '72.3', 'Arteriosclerosis - Death Rates': '', 'Bronchitis - Death Rates': '', 'Cancers - Death Rates': '64', 'COPD - Death Rates': '', 'Dementia - Death Rates': '50.2', 'Diabetes - Death Rates': '', 'Diarrheal disease - Death Rates': '142.7', 'Heart disease - Death Rates': '137.4', 'Homicide - Death Rates': '', 'Kidney infection - Death Rates': '', 'Liver disease - Death Rates': '', 'Neonatal disorders - Death Rates': '', 'Nephritis - Death Rates': '88.6', 'Other causes - Death Rates': '', 'Pneumonia and influenza - Death Rates': '202.2', 'Respiratory disease - Death Rates': '', 'Road accidents - Death Rates': '', 'Septicemia - Death Rates': '', 'Stroke - Death Rates': '106.9', 'Suicide - Death Rates': '', 'Syphilis - Death Rates': '', 'Total deaths - Death Rates': '1719.1', 'Tuberculosis - Death Rates': '194.4', 'Non-communicable diseases (NCDs) - Death Rates': '308.3', 'Communicable, infectious, neonatal and other deaths - Death Rates': '1338.5', 'Accidents (excl. road) - % of Deaths': '4.20', 'Accidents (total) - % of Deaths': '4.20', 'Arteriosclerosis - % of Deaths': '', 'Bronchitis - % of Deaths': '', 'Cancers - % of Deaths': '3.72', 'COPD - % of Deaths': '', 'Dementia - % of Deaths': '2.92', 'Diabetes - % of Deaths': '', 'Diarrheal disease - % of Deaths': '8.30', 'Heart disease - % of Deaths': '7.99', 'Homicide - % of Deaths': '', 'Kidney infection - % of Deaths': '', 'Liver disease - % of Deaths': '', 'Neonatal disorders - % of Deaths': '', 'Nephritis - % of Deaths': '5.16', 'Other bronchopulmonic diseases - % of Deaths': '', 'Other causes - % of Deaths': '', 'Pneumonia and influenza - % of Deaths': '11.76', 'Respiratory disease - % of Deaths': '', 'Road accidents - % of Deaths': '', 'Septicemia - % of Deaths': '', 'Stroke - % of Deaths': '6.22', 'Suicide - % of Deaths': '', 'Syphilis - % of Deaths': '', 'Total deaths - % of Deaths': '100.00', 'Tuberculosis - % of Deaths': '11.31', 'Non-communicable diseases (NCDs) - % of Deaths': '17.93', 'Communicable, infectious, neonatal and other deaths - % of Deaths': '77.86'}, {'Entity': 'United States', 'Year': '1901', 'Accidents (excl. road) - Deaths': '16958', 'Accidents (total)  - Deaths': '', 'Arteriosclerosis  - Deaths': '', 'Bronchitis  - Deaths': '8171', 'Cancers  - Deaths': '13438', 'COPD  - Deaths': '', 'Dementia  - Deaths': '9771', 'Diabetes  - Deaths': '', 'Diarrheal disease  - Deaths': '23986', 'Heart disease  - Deaths': '28329', 'Homicide  - Deaths': '', 'Kidney infection  - Deaths': '', 'Liver disease  - Deaths': '', 'Neonatal disorders  - Deaths': '', 'Nephritis  - Deaths': '18195', 'Other causes  - Deaths': '', 'Pneumonia and influenza  - Deaths': '39908', 'Respiratory disease  - Deaths': '', 'Road accidents  - Deaths': '', 'Septicemia  - Deaths': '', 'Stroke  - Deaths': '21639', 'Suicide  - Deaths': '', 'Syphilis  - Deaths': '', 'Total deaths  - Deaths': '332203', 'Tuberculosis  - Deaths': '38434', 'Non-communicable diseases (NCDs)  - Deaths': '63406', 'Communicable, infectious, neonatal and other deaths  - Deaths': '251839', 'Accidents (excl. road) - Death Rates': '83.8', 'Accidents (total) - Death Rates': '83.8', 'Arteriosclerosis - Death Rates': '', 'Bronchitis - Death Rates': '40.4', 'Cancers - Death Rates': '66.4', 'COPD - Death Rates': '', 'Dementia - Death Rates': '48.3', 'Diabetes - Death Rates': '', 'Diarrheal disease - Death Rates': '118.5', 'Heart disease - Death Rates': '140', 'Homicide - Death Rates': '', 'Kidney infection - Death Rates': '', 'Liver disease - Death Rates': '', 'Neonatal disorders - Death Rates': '', 'Nephritis - Death Rates': '89.9', 'Other causes - Death Rates': '', 'Pneumonia and influenza - Death Rates': '197.2', 'Respiratory disease - Death Rates': '', 'Road accidents - Death Rates': '', 'Septicemia - Death Rates': '', 'Stroke - Death Rates': '106.9', 'Suicide - Death Rates': '', 'Syphilis - Death Rates': '', 'Total deaths - Death Rates': '1641.5', 'Tuberculosis - Death Rates': '189.9', 'Non-communicable diseases (NCDs) - Death Rates': '313.3', 'Communicable, infectious, neonatal and other deaths - Death Rates': '1244.4', 'Accidents (excl. road) - % of Deaths': '5.10', 'Accidents (total) - % of Deaths': '', 'Arteriosclerosis - % of Deaths': '', 'Bronchitis - % of Deaths': '2.46', 'Cancers - % of Deaths': '4.05', 'COPD - % of Deaths': '', 'Dementia - % of Deaths': '2.94', 'Diabetes - % of Deaths': '', 'Diarrheal disease - % of Deaths': '7.22', 'Heart disease - % of Deaths': '8.53', 'Homicide - % of Deaths': '', 'Kidney infection - % of Deaths': '', 'Liver disease - % of Deaths': '', 'Neonatal disorders - % of Deaths': '', 'Nephritis - % of Deaths': '5.48', 'Other bronchopulmonic diseases - % of Deaths': '', 'Other causes - % of Deaths': '', 'Pneumonia and influenza - % of Deaths': '12.01', 'Respiratory disease - % of Deaths': '', 'Road accidents - % of Deaths': '', 'Septicemia - % of Deaths': '', 'Stroke - % of Deaths': '6.51', 'Suicide - % of Deaths': '', 'Syphilis - % of Deaths': '', 'Total deaths - % of Deaths': '100.00', 'Tuberculosis - % of Deaths': '11.57', 'Non-communicable diseases (NCDs) - % of Deaths': '19.09', 'Communicable, infectious, neonatal and other deaths - % of Deaths': '75.81'}, {'Entity': 'United States', 'Year': '1902', 'Accidents (excl. road) - Deaths': '14915', 'Accidents (total)  - Deaths': '', 'Arteriosclerosis  - Deaths': '', 'Bronchitis  - Deaths': '8112', 'Cancers  - Deaths': '13653', 'COPD  - Deaths': '', 'Dementia  - Deaths': '9309', 'Diabetes  - Deaths': '', 'Diarrheal disease  - Deaths': '21599', 'Heart disease  - Deaths': '29925', 'Homicide  - Deaths': '', 'Kidney infection  - Deaths': '', 'Liver disease  - Deaths': '', 'Neonatal disorders  - Deaths': '', 'Nephritis  - Deaths': '18642', 'Other causes  - Deaths': '', 'Pneumonia and influenza  - Deaths': '33208', 'Respiratory disease  - Deaths': '', 'Road accidents  - Deaths': '', 'Septicemia  - Deaths': '', 'Stroke  - Deaths': '21391', 'Suicide  - Deaths': '', 'Syphilis  - Deaths': '', 'Total deaths  - Deaths': '318636', 'Tuberculosis  - Deaths': '35859', 'Non-communicable diseases (NCDs)  - Deaths': '64969', 'Communicable, infectious, neonatal and other deaths  - Deaths': '238752', 'Accidents (excl. road) - Death Rates': '72.5', 'Accidents (total) - Death Rates': '72.5', 'Arteriosclerosis - Death Rates': '', 'Bronchitis - Death Rates': '39.4', 'Cancers - Death Rates': '66.3', 'COPD - Death Rates': '', 'Dementia - Death Rates': '45.2', 'Diabetes - Death Rates': '', 'Diarrheal disease - Death Rates': '104.9', 'Heart disease - Death Rates': '145.4', 'Homicide - Death Rates': '', 'Kidney infection - Death Rates': '', 'Liver disease - Death Rates': '', 'Neonatal disorders - Death Rates': '', 'Nephritis - Death Rates': '90.6', 'Other causes - Death Rates': '', 'Pneumonia and influenza - Death Rates': '161.3', 'Respiratory disease - Death Rates': '', 'Road accidents - Death Rates': '', 'Septicemia - Death Rates': '', 'Stroke - Death Rates': '103.9', 'Suicide - Death Rates': '', 'Syphilis - Death Rates': '', 'Total deaths - Death Rates': '1548.1', 'Tuberculosis - Death Rates': '174.2', 'Non-communicable diseases (NCDs) - Death Rates': '315.6', 'Communicable, infectious, neonatal and other deaths - Death Rates': '1160', 'Accidents (excl. road) - % of Deaths': '4.68', 'Accidents (total) - % of Deaths': '', 'Arteriosclerosis - % of Deaths': '', 'Bronchitis - % of Deaths': '2.55', 'Cancers - % of Deaths': '4.28', 'COPD - % of Deaths': '', 'Dementia - % of Deaths': '2.92', 'Diabetes - % of Deaths': '', 'Diarrheal disease - % of Deaths': '6.78', 'Heart disease - % of Deaths': '9.39', 'Homicide - % of Deaths': '', 'Kidney infection - % of Deaths': '', 'Liver disease - % of Deaths': '', 'Neonatal disorders - % of Deaths': '', 'Nephritis - % of Deaths': '5.85', 'Other bronchopulmonic diseases - % of Deaths': '', 'Other causes - % of Deaths': '', 'Pneumonia and influenza - % of Deaths': '10.42', 'Respiratory disease - % of Deaths': '', 'Road accidents - % of Deaths': '', 'Septicemia - % of Deaths': '', 'Stroke - % of Deaths': '6.71', 'Suicide - % of Deaths': '', 'Syphilis - % of Deaths': '', 'Total deaths - % of Deaths': '100.00', 'Tuberculosis - % of Deaths': '11.25', 'Non-communicable diseases (NCDs) - % of Deaths': '20.39', 'Communicable, infectious, neonatal and other deaths - % of Deaths': '74.93'}, {'Entity': 'United States', 'Year': '1903', 'Accidents (excl. road) - Deaths': '17050', 'Accidents (total)  - Deaths': '', 'Arteriosclerosis  - Deaths': '', 'Bronchitis  - Deaths': '7508', 'Cancers  - Deaths': '14650', 'COPD  - Deaths': '', 'Dementia  - Deaths': '8604', 'Diabetes  - Deaths': '', 'Diarrheal disease  - Deaths': '20997', 'Heart disease  - Deaths': '31797', 'Homicide  - Deaths': '', 'Kidney infection  - Deaths': '', 'Liver disease  - Deaths': '', 'Neonatal disorders  - Deaths': '', 'Nephritis  - Deaths': '20158', 'Other causes  - Deaths': '', 'Pneumonia and influenza  - Deaths': '35455', 'Respiratory disease  - Deaths': '', 'Road accidents  - Deaths': '', 'Septicemia  - Deaths': '', 'Stroke  - Deaths': '22031', 'Suicide  - Deaths': '', 'Syphilis  - Deaths': '', 'Total deaths  - Deaths': '327295', 'Tuberculosis  - Deaths': '37102', 'Non-communicable diseases (NCDs)  - Deaths': '68478', 'Communicable, infectious, neonatal and other deaths  - Deaths': '241767', 'Accidents (excl. road) - Death Rates': '81.4', 'Accidents (total) - Death Rates': '81.4', 'Arteriosclerosis - Death Rates': '', 'Bronchitis - Death Rates': '35.8', 'Cancers - Death Rates': '70', 'COPD - Death Rates': '', 'Dementia - Death Rates': '41.1', 'Diabetes - Death Rates': '', 'Diarrheal disease - Death Rates': '100.3', 'Heart disease - Death Rates': '151.8', 'Homicide - Death Rates': '', 'Kidney infection - Death Rates': '', 'Liver disease - Death Rates': '', 'Neonatal disorders - Death Rates': '', 'Nephritis - Death Rates': '96.3', 'Other causes - Death Rates': '', 'Pneumonia and influenza - Death Rates': '169.3', 'Respiratory disease - Death Rates': '', 'Road accidents - Death Rates': '', 'Septicemia - Death Rates': '', 'Stroke - Death Rates': '105.2', 'Suicide - Death Rates': '', 'Syphilis - Death Rates': '', 'Total deaths - Death Rates': '1562.8', 'Tuberculosis - Death Rates': '177.2', 'Non-communicable diseases (NCDs) - Death Rates': '327', 'Communicable, infectious, neonatal and other deaths - Death Rates': '1154.4', 'Accidents (excl. road) - % of Deaths': '5.21', 'Accidents (total) - % of Deaths': '', 'Arteriosclerosis - % of Deaths': '', 'Bronchitis - % of Deaths': '2.29', 'Cancers - % of Deaths': '4.48', 'COPD - % of Deaths': '', 'Dementia - % of Deaths': '2.63', 'Diabetes - % of Deaths': '', 'Diarrheal disease - % of Deaths': '6.42', 'Heart disease - % of Deaths': '9.72', 'Homicide - % of Deaths': '', 'Kidney infection - % of Deaths': '', 'Liver disease - % of Deaths': '', 'Neonatal disorders - % of Deaths': '', 'Nephritis - % of Deaths': '6.16', 'Other bronchopulmonic diseases - % of Deaths': '', 'Other causes - % of Deaths': '', 'Pneumonia and influenza - % of Deaths': '10.83', 'Respiratory disease - % of Deaths': '', 'Road accidents - % of Deaths': '', 'Septicemia - % of Deaths': '', 'Stroke - % of Deaths': '6.73', 'Suicide - % of Deaths': '', 'Syphilis - % of Deaths': '', 'Total deaths - % of Deaths': '100.00', 'Tuberculosis - % of Deaths': '11.34', 'Non-communicable diseases (NCDs) - % of Deaths': '20.92', 'Communicable, infectious, neonatal and other deaths - % of Deaths': '73.87'}, {'Entity': 'United States', 'Year': '1904', 'Accidents (excl. road) - Deaths': '18228', 'Accidents (total)  - Deaths': '', 'Arteriosclerosis  - Deaths': '', 'Bronchitis  - Deaths': '7571', 'Cancers  - Deaths': '15247', 'COPD  - Deaths': '', 'Dementia  - Deaths': '8702', 'Diabetes  - Deaths': '', 'Diarrheal disease  - Deaths': '23791', 'Heart disease  - Deaths': '34925', 'Homicide  - Deaths': '', 'Kidney infection  - Deaths': '', 'Liver disease  - Deaths': '', 'Neonatal disorders  - Deaths': '7569', 'Nephritis  - Deaths': '21851', 'Other causes  - Deaths': '', 'Pneumonia and influenza  - Deaths': '40989', 'Respiratory disease  - Deaths': '', 'Road accidents  - Deaths': '', 'Septicemia  - Deaths': '', 'Stroke  - Deaths': '23172', 'Suicide  - Deaths': '', 'Syphilis  - Deaths': '', 'Total deaths  - Deaths': '349855', 'Tuberculosis  - Deaths': '40125', 'Non-communicable diseases (NCDs)  - Deaths': '73344', 'Communicable, infectious, neonatal and other deaths  - Deaths': '258283', 'Accidents (excl. road) - Death Rates': '85.4', 'Accidents (total) - Death Rates': '85.4', 'Arteriosclerosis - Death Rates': '', 'Bronchitis - Death Rates': '35.5', 'Cancers - Death Rates': '71.5', 'COPD - Death Rates': '', 'Dementia - Death Rates': '40.8', 'Diabetes - Death Rates': '', 'Diarrheal disease - Death Rates': '111.5', 'Heart disease - Death Rates': '163.7', 'Homicide - Death Rates': '', 'Kidney infection - Death Rates': '', 'Liver disease - Death Rates': '', 'Neonatal disorders - Death Rates': '35.5', 'Nephritis - Death Rates': '102.4', 'Other causes - Death Rates': '', 'Pneumonia and influenza - Death Rates': '192.1', 'Respiratory disease - Death Rates': '', 'Road accidents - Death Rates': '', 'Septicemia - Death Rates': '', 'Stroke - Death Rates': '108.6', 'Suicide - Death Rates': '', 'Syphilis - Death Rates': '', 'Total deaths - Death Rates': '1640', 'Tuberculosis - Death Rates': '188.1', 'Non-communicable diseases (NCDs) - Death Rates': '343.8', 'Communicable, infectious, neonatal and other deaths - Death Rates': '1210.8', 'Accidents (excl. road) - % of Deaths': '5.21', 'Accidents (total) - % of Deaths': '', 'Arteriosclerosis - % of Deaths': '', 'Bronchitis - % of Deaths': '2.16', 'Cancers - % of Deaths': '4.36', 'COPD - % of Deaths': '', 'Dementia - % of Deaths': '2.49', 'Diabetes - % of Deaths': '', 'Diarrheal disease - % of Deaths': '6.80', 'Heart disease - % of Deaths': '9.98', 'Homicide - % of Deaths': '', 'Kidney infection - % of Deaths': '', 'Liver disease - % of Deaths': '', 'Neonatal disorders - % of Deaths': '2.16', 'Nephritis - % of Deaths': '6.25', 'Other bronchopulmonic diseases - % of Deaths': '', 'Other causes - % of Deaths': '', 'Pneumonia and influenza - % of Deaths': '11.72', 'Respiratory disease - % of Deaths': '', 'Road accidents - % of Deaths': '', 'Septicemia - % of Deaths': '', 'Stroke - % of Deaths': '6.62', 'Suicide - % of Deaths': '', 'Syphilis - % of Deaths': '', 'Total deaths - % of Deaths': '100.00', 'Tuberculosis - % of Deaths': '11.47', 'Non-communicable diseases (NCDs) - % of Deaths': '20.96', 'Communicable, infectious, neonatal and other deaths - % of Deaths': '73.83'}]\n"
          ]
        }
      ]
    },
    {
      "cell_type": "code",
      "source": [
        "%%writefile test_csv.py\n",
        "import pytest\n",
        "import csv\n",
        "\n",
        "ruta_csv = '/mnt/data/20th century deaths in US - CDC.csv'\n",
        "\n",
        "# Leer CSV\n",
        "def leer_csv():\n",
        "    with open(ruta_csv, newline='', encoding='utf-8') as csvfile:\n",
        "        lector = csv.DictReader(csvfile)\n",
        "        filas = list(lector)\n",
        "        return lector.fieldnames, filas\n",
        "\n",
        "# Tests\n",
        "def test_columnas_obligatorias():\n",
        "    columnas, _ = leer_csv()\n",
        "    obligatorias = [\"Year\", \"Deaths\", \"Cause\"]\n",
        "    for col in obligatorias:\n",
        "        assert col in columnas, f\"Falta columna {col}\"\n",
        "\n",
        "def test_year_valido():\n",
        "    _, filas = leer_csv()\n",
        "    for fila in filas:\n",
        "        year = int(fila[\"Year\"])\n",
        "        assert year >= 1900, f\"Año inválido: {year}\"\n",
        "\n",
        "def test_deaths_no_negativo():\n",
        "    _, filas = leer_csv()\n",
        "    for fila in filas:\n",
        "        deaths = int(fila[\"Deaths\"])\n",
        "        assert deaths >= 0, f\"Muertes negativas: {deaths}\"\n"
      ],
      "metadata": {
        "colab": {
          "base_uri": "https://localhost:8080/"
        },
        "id": "q_XPfivoF2at",
        "outputId": "32c1d5e4-250b-4209-a039-de9738edf24b"
      },
      "execution_count": 9,
      "outputs": [
        {
          "output_type": "stream",
          "name": "stdout",
          "text": [
            "Writing test_csv.py\n"
          ]
        }
      ]
    },
    {
      "cell_type": "code",
      "source": [
        "!pytest test_csv.py -v\n"
      ],
      "metadata": {
        "colab": {
          "base_uri": "https://localhost:8080/"
        },
        "id": "t0J5HMubGhVm",
        "outputId": "148c4c75-fc09-4f3a-a87c-b0c48171eb78"
      },
      "execution_count": 10,
      "outputs": [
        {
          "output_type": "stream",
          "name": "stdout",
          "text": [
            "\u001b[1m============================= test session starts ==============================\u001b[0m\n",
            "platform linux -- Python 3.12.11, pytest-8.4.1, pluggy-1.6.0 -- /usr/bin/python3\n",
            "cachedir: .pytest_cache\n",
            "rootdir: /content\n",
            "plugins: typeguard-4.4.4, anyio-4.10.0, langsmith-0.4.14\n",
            "\u001b[1mcollecting ... \u001b[0m\u001b[1m\rcollected 3 items                                                              \u001b[0m\n",
            "\n",
            "test_csv.py::test_columnas_obligatorias \u001b[31mFAILED\u001b[0m\u001b[31m                           [ 33%]\u001b[0m\n",
            "test_csv.py::test_year_valido \u001b[31mFAILED\u001b[0m\u001b[31m                                     [ 66%]\u001b[0m\n",
            "test_csv.py::test_deaths_no_negativo \u001b[31mFAILED\u001b[0m\u001b[31m                              [100%]\u001b[0m\n",
            "\n",
            "=================================== FAILURES ===================================\n",
            "\u001b[31m\u001b[1m__________________________ test_columnas_obligatorias __________________________\u001b[0m\n",
            "\n",
            "    \u001b[0m\u001b[94mdef\u001b[39;49;00m\u001b[90m \u001b[39;49;00m\u001b[92mtest_columnas_obligatorias\u001b[39;49;00m():\u001b[90m\u001b[39;49;00m\n",
            ">       columnas, _ = leer_csv()\u001b[90m\u001b[39;49;00m\n",
            "                      ^^^^^^^^^^\u001b[90m\u001b[39;49;00m\n",
            "\n",
            "\u001b[1m\u001b[31mtest_csv.py\u001b[0m:15: \n",
            "_ _ _ _ _ _ _ _ _ _ _ _ _ _ _ _ _ _ _ _ _ _ _ _ _ _ _ _ _ _ _ _ _ _ _ _ _ _ _ _ \n",
            "\n",
            "    \u001b[0m\u001b[94mdef\u001b[39;49;00m\u001b[90m \u001b[39;49;00m\u001b[92mleer_csv\u001b[39;49;00m():\u001b[90m\u001b[39;49;00m\n",
            ">       \u001b[94mwith\u001b[39;49;00m \u001b[96mopen\u001b[39;49;00m(ruta_csv, newline=\u001b[33m'\u001b[39;49;00m\u001b[33m'\u001b[39;49;00m, encoding=\u001b[33m'\u001b[39;49;00m\u001b[33mutf-8\u001b[39;49;00m\u001b[33m'\u001b[39;49;00m) \u001b[94mas\u001b[39;49;00m csvfile:\u001b[90m\u001b[39;49;00m\n",
            "             ^^^^^^^^^^^^^^^^^^^^^^^^^^^^^^^^^^^^^^^^^^^^\u001b[90m\u001b[39;49;00m\n",
            "\u001b[1m\u001b[31mE       FileNotFoundError: [Errno 2] No such file or directory: '/mnt/data/20th century deaths in US - CDC.csv'\u001b[0m\n",
            "\n",
            "\u001b[1m\u001b[31mtest_csv.py\u001b[0m:8: FileNotFoundError\n",
            "\u001b[31m\u001b[1m_______________________________ test_year_valido _______________________________\u001b[0m\n",
            "\n",
            "    \u001b[0m\u001b[94mdef\u001b[39;49;00m\u001b[90m \u001b[39;49;00m\u001b[92mtest_year_valido\u001b[39;49;00m():\u001b[90m\u001b[39;49;00m\n",
            ">       _, filas = leer_csv()\u001b[90m\u001b[39;49;00m\n",
            "                   ^^^^^^^^^^\u001b[90m\u001b[39;49;00m\n",
            "\n",
            "\u001b[1m\u001b[31mtest_csv.py\u001b[0m:21: \n",
            "_ _ _ _ _ _ _ _ _ _ _ _ _ _ _ _ _ _ _ _ _ _ _ _ _ _ _ _ _ _ _ _ _ _ _ _ _ _ _ _ \n",
            "\n",
            "    \u001b[0m\u001b[94mdef\u001b[39;49;00m\u001b[90m \u001b[39;49;00m\u001b[92mleer_csv\u001b[39;49;00m():\u001b[90m\u001b[39;49;00m\n",
            ">       \u001b[94mwith\u001b[39;49;00m \u001b[96mopen\u001b[39;49;00m(ruta_csv, newline=\u001b[33m'\u001b[39;49;00m\u001b[33m'\u001b[39;49;00m, encoding=\u001b[33m'\u001b[39;49;00m\u001b[33mutf-8\u001b[39;49;00m\u001b[33m'\u001b[39;49;00m) \u001b[94mas\u001b[39;49;00m csvfile:\u001b[90m\u001b[39;49;00m\n",
            "             ^^^^^^^^^^^^^^^^^^^^^^^^^^^^^^^^^^^^^^^^^^^^\u001b[90m\u001b[39;49;00m\n",
            "\u001b[1m\u001b[31mE       FileNotFoundError: [Errno 2] No such file or directory: '/mnt/data/20th century deaths in US - CDC.csv'\u001b[0m\n",
            "\n",
            "\u001b[1m\u001b[31mtest_csv.py\u001b[0m:8: FileNotFoundError\n",
            "\u001b[31m\u001b[1m___________________________ test_deaths_no_negativo ____________________________\u001b[0m\n",
            "\n",
            "    \u001b[0m\u001b[94mdef\u001b[39;49;00m\u001b[90m \u001b[39;49;00m\u001b[92mtest_deaths_no_negativo\u001b[39;49;00m():\u001b[90m\u001b[39;49;00m\n",
            ">       _, filas = leer_csv()\u001b[90m\u001b[39;49;00m\n",
            "                   ^^^^^^^^^^\u001b[90m\u001b[39;49;00m\n",
            "\n",
            "\u001b[1m\u001b[31mtest_csv.py\u001b[0m:27: \n",
            "_ _ _ _ _ _ _ _ _ _ _ _ _ _ _ _ _ _ _ _ _ _ _ _ _ _ _ _ _ _ _ _ _ _ _ _ _ _ _ _ \n",
            "\n",
            "    \u001b[0m\u001b[94mdef\u001b[39;49;00m\u001b[90m \u001b[39;49;00m\u001b[92mleer_csv\u001b[39;49;00m():\u001b[90m\u001b[39;49;00m\n",
            ">       \u001b[94mwith\u001b[39;49;00m \u001b[96mopen\u001b[39;49;00m(ruta_csv, newline=\u001b[33m'\u001b[39;49;00m\u001b[33m'\u001b[39;49;00m, encoding=\u001b[33m'\u001b[39;49;00m\u001b[33mutf-8\u001b[39;49;00m\u001b[33m'\u001b[39;49;00m) \u001b[94mas\u001b[39;49;00m csvfile:\u001b[90m\u001b[39;49;00m\n",
            "             ^^^^^^^^^^^^^^^^^^^^^^^^^^^^^^^^^^^^^^^^^^^^\u001b[90m\u001b[39;49;00m\n",
            "\u001b[1m\u001b[31mE       FileNotFoundError: [Errno 2] No such file or directory: '/mnt/data/20th century deaths in US - CDC.csv'\u001b[0m\n",
            "\n",
            "\u001b[1m\u001b[31mtest_csv.py\u001b[0m:8: FileNotFoundError\n",
            "\u001b[36m\u001b[1m=========================== short test summary info ============================\u001b[0m\n",
            "\u001b[31mFAILED\u001b[0m test_csv.py::\u001b[1mtest_columnas_obligatorias\u001b[0m - FileNotFoundError: [Errno 2] No such file or directory: '/mnt/data/20th cen...\n",
            "\u001b[31mFAILED\u001b[0m test_csv.py::\u001b[1mtest_year_valido\u001b[0m - FileNotFoundError: [Errno 2] No such file or directory: '/mnt/data/20th cen...\n",
            "\u001b[31mFAILED\u001b[0m test_csv.py::\u001b[1mtest_deaths_no_negativo\u001b[0m - FileNotFoundError: [Errno 2] No such file or directory: '/mnt/data/20th cen...\n",
            "\u001b[31m============================== \u001b[31m\u001b[1m3 failed\u001b[0m\u001b[31m in 0.10s\u001b[0m\u001b[31m ===============================\u001b[0m\n"
          ]
        }
      ]
    }
  ]
}